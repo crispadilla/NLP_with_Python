{
 "cells": [
  {
   "cell_type": "markdown",
   "metadata": {},
   "source": [
    "# Chapter One Exercises"
   ]
  },
  {
   "cell_type": "markdown",
   "metadata": {},
   "source": [
    "#### Set up the environment "
   ]
  },
  {
   "cell_type": "code",
   "execution_count": 6,
   "metadata": {},
   "outputs": [
    {
     "name": "stdout",
     "output_type": "stream",
     "text": [
      "*** Introductory Examples for the NLTK Book ***\n",
      "Loading text1, ..., text9 and sent1, ..., sent9\n",
      "Type the name of the text or sentence to view it.\n",
      "Type: 'texts()' or 'sents()' to list the materials.\n",
      "text1: Moby Dick by Herman Melville 1851\n",
      "text2: Sense and Sensibility by Jane Austen 1811\n",
      "text3: The Book of Genesis\n",
      "text4: Inaugural Address Corpus\n",
      "text5: Chat Corpus\n",
      "text6: Monty Python and the Holy Grail\n",
      "text7: Wall Street Journal\n",
      "text8: Personals Corpus\n",
      "text9: The Man Who Was Thursday by G . K . Chesterton 1908\n"
     ]
    }
   ],
   "source": [
    "import nltk\n",
    "from nltk.book import *"
   ]
  },
  {
   "cell_type": "markdown",
   "metadata": {},
   "source": [
    "#### 1. Try using the Python interpreter as a calculator, and typing expressions like:\n",
    "<font color=blue> 12 / (4 + 1) </font>."
   ]
  },
  {
   "cell_type": "code",
   "execution_count": 1,
   "metadata": {},
   "outputs": [
    {
     "data": {
      "text/plain": [
       "2.4"
      ]
     },
     "execution_count": 1,
     "metadata": {},
     "output_type": "execute_result"
    }
   ],
   "source": [
    "12 / (4 + 1)"
   ]
  },
  {
   "cell_type": "markdown",
   "metadata": {},
   "source": [
    "#### 2. Given an alphabet of 26 letters, there are 26 to the power 10, or <font color=blue> 26 ** 10 </font>, 10-letter strings we can form. That works out to 141167095653376L (The L at the end just indicates that this is Python's lone-number format). How many hundred-letter strings are possible?"
   ]
  },
  {
   "cell_type": "code",
   "execution_count": 2,
   "metadata": {},
   "outputs": [
    {
     "data": {
      "text/plain": [
       "3142930641582938830174357788501626427282669988762475256374173175398995908420104023465432599069702289330964075081611719197835869803511992549376"
      ]
     },
     "execution_count": 2,
     "metadata": {},
     "output_type": "execute_result"
    }
   ],
   "source": [
    "26 ** 100"
   ]
  },
  {
   "cell_type": "markdown",
   "metadata": {},
   "source": [
    "#### 3. The Python multiplication operation can be applied to lists. What happens when you type <font color=blue> ['Monty','Python'] * 20 </font>, or <font color=blue> 3 * sent1 </font>?"
   ]
  },
  {
   "cell_type": "code",
   "execution_count": 4,
   "metadata": {},
   "outputs": [
    {
     "data": {
      "text/plain": [
       "['Monty',\n",
       " 'Python',\n",
       " 'Monty',\n",
       " 'Python',\n",
       " 'Monty',\n",
       " 'Python',\n",
       " 'Monty',\n",
       " 'Python',\n",
       " 'Monty',\n",
       " 'Python',\n",
       " 'Monty',\n",
       " 'Python',\n",
       " 'Monty',\n",
       " 'Python',\n",
       " 'Monty',\n",
       " 'Python',\n",
       " 'Monty',\n",
       " 'Python',\n",
       " 'Monty',\n",
       " 'Python',\n",
       " 'Monty',\n",
       " 'Python',\n",
       " 'Monty',\n",
       " 'Python',\n",
       " 'Monty',\n",
       " 'Python',\n",
       " 'Monty',\n",
       " 'Python',\n",
       " 'Monty',\n",
       " 'Python',\n",
       " 'Monty',\n",
       " 'Python',\n",
       " 'Monty',\n",
       " 'Python',\n",
       " 'Monty',\n",
       " 'Python',\n",
       " 'Monty',\n",
       " 'Python',\n",
       " 'Monty',\n",
       " 'Python']"
      ]
     },
     "execution_count": 4,
     "metadata": {},
     "output_type": "execute_result"
    }
   ],
   "source": [
    "['Monty', 'Python'] * 20"
   ]
  },
  {
   "cell_type": "code",
   "execution_count": 7,
   "metadata": {},
   "outputs": [
    {
     "data": {
      "text/plain": [
       "['Call',\n",
       " 'me',\n",
       " 'Ishmael',\n",
       " '.',\n",
       " 'Call',\n",
       " 'me',\n",
       " 'Ishmael',\n",
       " '.',\n",
       " 'Call',\n",
       " 'me',\n",
       " 'Ishmael',\n",
       " '.']"
      ]
     },
     "execution_count": 7,
     "metadata": {},
     "output_type": "execute_result"
    }
   ],
   "source": [
    "3 * sent1"
   ]
  },
  {
   "cell_type": "markdown",
   "metadata": {},
   "source": [
    "#### 4. Review Section 1.1 on computing with language. How many words are there in text2? How many distinct words are there?"
   ]
  },
  {
   "cell_type": "code",
   "execution_count": 12,
   "metadata": {},
   "outputs": [
    {
     "data": {
      "text/plain": [
       "141576"
      ]
     },
     "execution_count": 12,
     "metadata": {},
     "output_type": "execute_result"
    }
   ],
   "source": [
    "len(text2) # Number of words (tokens)"
   ]
  },
  {
   "cell_type": "code",
   "execution_count": 14,
   "metadata": {},
   "outputs": [
    {
     "data": {
      "text/plain": [
       "6833"
      ]
     },
     "execution_count": 14,
     "metadata": {},
     "output_type": "execute_result"
    }
   ],
   "source": [
    "len(set(text2)) # Number of word types"
   ]
  },
  {
   "cell_type": "markdown",
   "metadata": {},
   "source": [
    "#### 5. Compare the lexical diversity scores for humor and romance fiction in Table 1-1. Which genre is more lexically diverse?"
   ]
  },
  {
   "cell_type": "markdown",
   "metadata": {},
   "source": [
    "Romance fiction is more lexically diverse that humor since it has a higher score. "
   ]
  },
  {
   "cell_type": "markdown",
   "metadata": {},
   "source": [
    "#### 6. Produce a dispersion plot of the four main protagonist in Sense and Sensibility: Elinor, Marianne, Edward, and Willoughby. What can you observe about the different roles played by the males and females in this novel? Can you identify the couples?"
   ]
  },
  {
   "cell_type": "code",
   "execution_count": 15,
   "metadata": {},
   "outputs": [
    {
     "data": {
      "image/png": "[encoded data removed]",
      "text/plain": [
       "<Figure size 432x288 with 1 Axes>"
      ]
     },
     "metadata": {
      "needs_background": "light"
     },
     "output_type": "display_data"
    }
   ],
   "source": [
    "text2.dispersion_plot(['Elinor', 'Marianne', 'Edward', 'Willoughby'])"
   ]
  },
  {
   "cell_type": "markdown",
   "metadata": {},
   "source": [
    "Clearly, the two main roles are those of Elinor and Marianne, with Elinor being the most prominent. \n",
    "\n",
    "The word Edward appears often with both Elinor and Marianne, but on closer look the word Elinor appears more often with Edward than Marianne does. So, I could guess that Elinor and Edward are a couple. Similarly, Marianne and Willoghby appear together more often, so I could guess that Marianne and Willoghby are a couple. "
   ]
  },
  {
   "cell_type": "markdown",
   "metadata": {},
   "source": [
    "#### 7. Find the collocations in text5."
   ]
  },
  {
   "cell_type": "code",
   "execution_count": 16,
   "metadata": {},
   "outputs": [
    {
     "name": "stdout",
     "output_type": "stream",
     "text": [
      "wanna chat; PART JOIN; MODE #14-19teens; JOIN PART; PART PART;\n",
      "cute.-ass MP3; MP3 player; JOIN JOIN; times .. .; ACTION watches; guys\n",
      "wanna; song lasts; last night; ACTION sits; -...)...- S.M.R.; Lime\n",
      "Player; Player 12%; dont know; lez gurls; long time\n"
     ]
    }
   ],
   "source": [
    "text5.collocations()"
   ]
  },
  {
   "cell_type": "markdown",
   "metadata": {},
   "source": [
    "#### 8. Consider the following Python expression: <font color=blue> len(set(text4)) </font>. State the purpose of this expression. Describe the two steps involved in preforming this computation. "
   ]
  },
  {
   "cell_type": "code",
   "execution_count": 18,
   "metadata": {},
   "outputs": [
    {
     "data": {
      "text/plain": [
       "9913"
      ]
     },
     "execution_count": 18,
     "metadata": {},
     "output_type": "execute_result"
    }
   ],
   "source": [
    "# The purpose of this expression is to count the number of tokens \n",
    "# in text4, without counting repetitions. \n",
    "\n",
    "# The first setp, which is the set(text4) command, is to obtain a set of \n",
    "# elements consisting of tokens from text4, but without any token appearing \n",
    "# in the set more than once. \n",
    "# The second step, len(), is to count the number of tokens in the set.\n",
    "\n",
    "len(set(text4))"
   ]
  },
  {
   "cell_type": "markdown",
   "metadata": {},
   "source": [
    "#### 9. Review Section 1.2 on lists and strings.\n",
    "##### a. Define a string and assign it to a variable, e.g. <font color=blue> my_string = 'My String' </font> (but put something more interesting in the string). Print the contents of this variable in two ways, first by simply typing the variable name and pressing <font color=red> Enter </font>, then by using the <font color=blue> print </font> statement."
   ]
  },
  {
   "cell_type": "code",
   "execution_count": 24,
   "metadata": {},
   "outputs": [],
   "source": [
    "my_string = 'This is a string with something more interesting in it than what was originally suggested.'"
   ]
  },
  {
   "cell_type": "code",
   "execution_count": 25,
   "metadata": {},
   "outputs": [
    {
     "data": {
      "text/plain": [
       "'This is a string with something more interesting in it than what was originally suggested.'"
      ]
     },
     "execution_count": 25,
     "metadata": {},
     "output_type": "execute_result"
    }
   ],
   "source": [
    "my_string"
   ]
  },
  {
   "cell_type": "code",
   "execution_count": 23,
   "metadata": {},
   "outputs": [
    {
     "name": "stdout",
     "output_type": "stream",
     "text": [
      "This is a string with something more interesting in it than what was originally suggested.\n"
     ]
    }
   ],
   "source": [
    "print(my_string)"
   ]
  },
  {
   "cell_type": "markdown",
   "metadata": {},
   "source": [
    "##### b. Try adding the string to itself using <font color=blue> my_string + my_string </font>, or by multiplying it by a number, e.g., <font color=blue> my_string * 3 </font>. Notice that the strings are joined together without any spaces. How could you fix this?"
   ]
  },
  {
   "cell_type": "code",
   "execution_count": 26,
   "metadata": {},
   "outputs": [
    {
     "data": {
      "text/plain": [
       "'This is a string with something more interesting in it than what was originally suggested.This is a string with something more interesting in it than what was originally suggested.'"
      ]
     },
     "execution_count": 26,
     "metadata": {},
     "output_type": "execute_result"
    }
   ],
   "source": [
    "my_string + my_string       # Adding string to itself"
   ]
  },
  {
   "cell_type": "code",
   "execution_count": 27,
   "metadata": {},
   "outputs": [
    {
     "data": {
      "text/plain": [
       "'This is a string with something more interesting in it than what was originally suggested.This is a string with something more interesting in it than what was originally suggested.This is a string with something more interesting in it than what was originally suggested.'"
      ]
     },
     "execution_count": 27,
     "metadata": {},
     "output_type": "execute_result"
    }
   ],
   "source": [
    "my_string * 3        # Multiplying string by 3"
   ]
  },
  {
   "cell_type": "code",
   "execution_count": 28,
   "metadata": {},
   "outputs": [
    {
     "data": {
      "text/plain": [
       "'This is a string with something more interesting in it than what was originally suggested. This is a string with something more interesting in it than what was originally suggested.'"
      ]
     },
     "execution_count": 28,
     "metadata": {},
     "output_type": "execute_result"
    }
   ],
   "source": [
    "# One solution could be to add a \"buffer\", like a space character ' ' \n",
    "# in between the two string, like so:\n",
    "my_string + ' ' + my_string"
   ]
  },
  {
   "cell_type": "code",
   "execution_count": 32,
   "metadata": {},
   "outputs": [
    {
     "data": {
      "text/plain": [
       "'This is a string with something more interesting in it than what was originally suggested. This is a string with something more interesting in it than what was originally suggested. This is a string with something more interesting in it than what was originally suggested. '"
      ]
     },
     "execution_count": 32,
     "metadata": {},
     "output_type": "execute_result"
    }
   ],
   "source": [
    "# Same solution would work with multiplication, with the caveat that \n",
    "# the space character ' ' would need to be added to the string first. \n",
    "(my_string  + ' ') * 3"
   ]
  },
  {
   "cell_type": "markdown",
   "metadata": {},
   "source": [
    "#### 10. Define a variable <font color=blue> my_sent </font> to be a list of words, using the syntax <font color=blue> my_sent = [\"My\", \"sent\"] </font> (but with your own words, or a favorite saying)."
   ]
  },
  {
   "cell_type": "code",
   "execution_count": 48,
   "metadata": {},
   "outputs": [],
   "source": [
    "my_sent = [\"The\", \"limits\", \"of\", \"my\", \"language\", \"mean\", \"the\", \"limits\", \"of\", \"my\", \"world\"]"
   ]
  },
  {
   "cell_type": "markdown",
   "metadata": {},
   "source": [
    "##### a. Use <font color=blue> ' '.join(my_sent) </font> (note the space between the single quotes) to convert this into a string."
   ]
  },
  {
   "cell_type": "code",
   "execution_count": 49,
   "metadata": {},
   "outputs": [
    {
     "data": {
      "text/plain": [
       "'The limits of my language mean the limits of my world'"
      ]
     },
     "execution_count": 49,
     "metadata": {},
     "output_type": "execute_result"
    }
   ],
   "source": [
    "my_sent = ' '.join(my_sent)\n",
    "my_sent"
   ]
  },
  {
   "cell_type": "markdown",
   "metadata": {},
   "source": [
    "##### b. Use <font color=blue> split() </font> to split the string back into the list form you had to start with. "
   ]
  },
  {
   "cell_type": "code",
   "execution_count": 50,
   "metadata": {},
   "outputs": [
    {
     "data": {
      "text/plain": [
       "['The',\n",
       " 'limits',\n",
       " 'of',\n",
       " 'my',\n",
       " 'language',\n",
       " 'mean',\n",
       " 'the',\n",
       " 'limits',\n",
       " 'of',\n",
       " 'my',\n",
       " 'world']"
      ]
     },
     "execution_count": 50,
     "metadata": {},
     "output_type": "execute_result"
    }
   ],
   "source": [
    "my_sent = my_sent.split()\n",
    "my_sent"
   ]
  }
 ],
 "metadata": {
  "kernelspec": {
   "display_name": "Python 3",
   "language": "python",
   "name": "python3"
  },
  "language_info": {
   "codemirror_mode": {
    "name": "ipython",
    "version": 3
   },
   "file_extension": ".py",
   "mimetype": "text/x-python",
   "name": "python",
   "nbconvert_exporter": "python",
   "pygments_lexer": "ipython3",
   "version": "3.8.3"
  }
 },
 "nbformat": 4,
 "nbformat_minor": 4
}
